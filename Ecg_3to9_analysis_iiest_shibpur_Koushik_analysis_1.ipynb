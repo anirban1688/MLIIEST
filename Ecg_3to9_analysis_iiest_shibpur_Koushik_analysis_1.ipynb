{
 "cells": [
  {
   "cell_type": "markdown",
   "id": "b9b699ed-3cab-4cde-bc5e-7decbe55f46e",
   "metadata": {},
   "source": [
    "## Importing Library"
   ]
  },
  {
   "cell_type": "code",
   "execution_count": 102,
   "id": "b9d1ab62-e809-4ae2-a952-d6b46484dbe9",
   "metadata": {},
   "outputs": [],
   "source": [
    "import numpy as np\n",
    "import pandas as pd\n",
    "import matplotlib.pyplot as plt\n",
    "from scipy.signal import welch\n",
    "from collections import Counter\n",
    "import pywt\n",
    "from sklearn.model_selection import train_test_split\n",
    "from sklearn.tree import DecisionTreeClassifier\n",
    "from sklearn.metrics import classification_report, confusion_matrix\n",
    "from sklearn.metrics import accuracy_score\n",
    "from sklearn.decomposition import PCA\n",
    "from scipy.stats import skew, kurtosis,entropy\n",
    "from sklearn.preprocessing import MinMaxScaler\n",
    "from scipy.fftpack import fft, fftfreq\n",
    "from sklearn.metrics import classification_report,confusion_matrix\n",
    "from scipy.fft import fft, fftfreq\n",
    "import statistics as st\n",
    "import scipy.stats as scst\n",
    "import pandas as pd\n",
    "import numpy as np"
   ]
  },
  {
   "cell_type": "markdown",
   "id": "aae043b1-107a-4756-96f2-a8e1bc11f01a",
   "metadata": {},
   "source": [
    "## Importing Csv Files"
   ]
  },
  {
   "cell_type": "markdown",
   "id": "dec42625-63d1-4bd8-b973-b1807842ddc4",
   "metadata": {},
   "source": [
    "## For ECG Signal_3"
   ]
  },
  {
   "cell_type": "code",
   "execution_count": 106,
   "id": "aed6ed82-08a3-4617-8b04-73779b0aad20",
   "metadata": {},
   "outputs": [
    {
     "data": {
      "text/html": [
       "<div>\n",
       "<style scoped>\n",
       "    .dataframe tbody tr th:only-of-type {\n",
       "        vertical-align: middle;\n",
       "    }\n",
       "\n",
       "    .dataframe tbody tr th {\n",
       "        vertical-align: top;\n",
       "    }\n",
       "\n",
       "    .dataframe thead th {\n",
       "        text-align: right;\n",
       "    }\n",
       "</style>\n",
       "<table border=\"1\" class=\"dataframe\">\n",
       "  <thead>\n",
       "    <tr style=\"text-align: right;\">\n",
       "      <th></th>\n",
       "      <th>time</th>\n",
       "      <th>mV</th>\n",
       "    </tr>\n",
       "  </thead>\n",
       "  <tbody>\n",
       "    <tr>\n",
       "      <th>0</th>\n",
       "      <td>2025 06 26 11:42:14.431748</td>\n",
       "      <td>339</td>\n",
       "    </tr>\n",
       "    <tr>\n",
       "      <th>1</th>\n",
       "      <td>0</td>\n",
       "      <td>611</td>\n",
       "    </tr>\n",
       "    <tr>\n",
       "      <th>2</th>\n",
       "      <td>0</td>\n",
       "      <td>919</td>\n",
       "    </tr>\n",
       "    <tr>\n",
       "      <th>3</th>\n",
       "      <td>0</td>\n",
       "      <td>575</td>\n",
       "    </tr>\n",
       "    <tr>\n",
       "      <th>4</th>\n",
       "      <td>0</td>\n",
       "      <td>563</td>\n",
       "    </tr>\n",
       "    <tr>\n",
       "      <th>...</th>\n",
       "      <td>...</td>\n",
       "      <td>...</td>\n",
       "    </tr>\n",
       "    <tr>\n",
       "      <th>125265</th>\n",
       "      <td>0</td>\n",
       "      <td>901</td>\n",
       "    </tr>\n",
       "    <tr>\n",
       "      <th>125266</th>\n",
       "      <td>0</td>\n",
       "      <td>896</td>\n",
       "    </tr>\n",
       "    <tr>\n",
       "      <th>125267</th>\n",
       "      <td>0</td>\n",
       "      <td>897</td>\n",
       "    </tr>\n",
       "    <tr>\n",
       "      <th>125268</th>\n",
       "      <td>0</td>\n",
       "      <td>891</td>\n",
       "    </tr>\n",
       "    <tr>\n",
       "      <th>125269</th>\n",
       "      <td>0</td>\n",
       "      <td>894</td>\n",
       "    </tr>\n",
       "  </tbody>\n",
       "</table>\n",
       "<p>125270 rows × 2 columns</p>\n",
       "</div>"
      ],
      "text/plain": [
       "                              time   mV\n",
       "0       2025 06 26 11:42:14.431748  339\n",
       "1                                0  611\n",
       "2                                0  919\n",
       "3                                0  575\n",
       "4                                0  563\n",
       "...                            ...  ...\n",
       "125265                           0  901\n",
       "125266                           0  896\n",
       "125267                           0  897\n",
       "125268                           0  891\n",
       "125269                           0  894\n",
       "\n",
       "[125270 rows x 2 columns]"
      ]
     },
     "execution_count": 106,
     "metadata": {},
     "output_type": "execute_result"
    }
   ],
   "source": [
    "data_3=pd.read_csv(\"D:\\\\RKMGEC COLLEGE\\\\internship iiest shibpur\\\\ECG _3.csv\")\n",
    "data_3=data_3.fillna(0)\n",
    "data_3\n"
   ]
  },
  {
   "cell_type": "markdown",
   "id": "234097ca-471f-4b6a-a199-df1ea684b62e",
   "metadata": {},
   "source": [
    "## For ECG Signal_4"
   ]
  },
  {
   "cell_type": "code",
   "execution_count": 109,
   "id": "d8144e08-1240-457f-9397-8d33cc60d5a7",
   "metadata": {},
   "outputs": [
    {
     "data": {
      "text/html": [
       "<div>\n",
       "<style scoped>\n",
       "    .dataframe tbody tr th:only-of-type {\n",
       "        vertical-align: middle;\n",
       "    }\n",
       "\n",
       "    .dataframe tbody tr th {\n",
       "        vertical-align: top;\n",
       "    }\n",
       "\n",
       "    .dataframe thead th {\n",
       "        text-align: right;\n",
       "    }\n",
       "</style>\n",
       "<table border=\"1\" class=\"dataframe\">\n",
       "  <thead>\n",
       "    <tr style=\"text-align: right;\">\n",
       "      <th></th>\n",
       "      <th>time</th>\n",
       "      <th>mV</th>\n",
       "    </tr>\n",
       "  </thead>\n",
       "  <tbody>\n",
       "    <tr>\n",
       "      <th>0</th>\n",
       "      <td>2025 06 26 11:42:14.431748</td>\n",
       "      <td>339</td>\n",
       "    </tr>\n",
       "    <tr>\n",
       "      <th>1</th>\n",
       "      <td>0</td>\n",
       "      <td>611</td>\n",
       "    </tr>\n",
       "    <tr>\n",
       "      <th>2</th>\n",
       "      <td>0</td>\n",
       "      <td>919</td>\n",
       "    </tr>\n",
       "    <tr>\n",
       "      <th>3</th>\n",
       "      <td>0</td>\n",
       "      <td>575</td>\n",
       "    </tr>\n",
       "    <tr>\n",
       "      <th>4</th>\n",
       "      <td>0</td>\n",
       "      <td>563</td>\n",
       "    </tr>\n",
       "    <tr>\n",
       "      <th>...</th>\n",
       "      <td>...</td>\n",
       "      <td>...</td>\n",
       "    </tr>\n",
       "    <tr>\n",
       "      <th>150255</th>\n",
       "      <td>0</td>\n",
       "      <td>623</td>\n",
       "    </tr>\n",
       "    <tr>\n",
       "      <th>150256</th>\n",
       "      <td>0</td>\n",
       "      <td>627</td>\n",
       "    </tr>\n",
       "    <tr>\n",
       "      <th>150257</th>\n",
       "      <td>0</td>\n",
       "      <td>629</td>\n",
       "    </tr>\n",
       "    <tr>\n",
       "      <th>150258</th>\n",
       "      <td>0</td>\n",
       "      <td>628</td>\n",
       "    </tr>\n",
       "    <tr>\n",
       "      <th>150259</th>\n",
       "      <td>0</td>\n",
       "      <td>629</td>\n",
       "    </tr>\n",
       "  </tbody>\n",
       "</table>\n",
       "<p>150260 rows × 2 columns</p>\n",
       "</div>"
      ],
      "text/plain": [
       "                              time   mV\n",
       "0       2025 06 26 11:42:14.431748  339\n",
       "1                                0  611\n",
       "2                                0  919\n",
       "3                                0  575\n",
       "4                                0  563\n",
       "...                            ...  ...\n",
       "150255                           0  623\n",
       "150256                           0  627\n",
       "150257                           0  629\n",
       "150258                           0  628\n",
       "150259                           0  629\n",
       "\n",
       "[150260 rows x 2 columns]"
      ]
     },
     "execution_count": 109,
     "metadata": {},
     "output_type": "execute_result"
    }
   ],
   "source": [
    "data_4=pd.read_csv(\"D:\\\\RKMGEC COLLEGE\\\\internship iiest shibpur\\\\ECG _4.csv\")\n",
    "data_4=data_4.fillna(0)\n",
    "data_4"
   ]
  },
  {
   "cell_type": "markdown",
   "id": "3a509058-943f-4fd6-804f-835189b6ae57",
   "metadata": {},
   "source": [
    "## For ECG Signal_5"
   ]
  },
  {
   "cell_type": "code",
   "execution_count": 112,
   "id": "263da9b3-3dc8-4143-8c1c-24eadf97b5a0",
   "metadata": {},
   "outputs": [
    {
     "data": {
      "text/html": [
       "<div>\n",
       "<style scoped>\n",
       "    .dataframe tbody tr th:only-of-type {\n",
       "        vertical-align: middle;\n",
       "    }\n",
       "\n",
       "    .dataframe tbody tr th {\n",
       "        vertical-align: top;\n",
       "    }\n",
       "\n",
       "    .dataframe thead th {\n",
       "        text-align: right;\n",
       "    }\n",
       "</style>\n",
       "<table border=\"1\" class=\"dataframe\">\n",
       "  <thead>\n",
       "    <tr style=\"text-align: right;\">\n",
       "      <th></th>\n",
       "      <th>time</th>\n",
       "      <th>mV</th>\n",
       "    </tr>\n",
       "  </thead>\n",
       "  <tbody>\n",
       "    <tr>\n",
       "      <th>0</th>\n",
       "      <td>2025 06 26 11:42:14.431748</td>\n",
       "      <td>339</td>\n",
       "    </tr>\n",
       "    <tr>\n",
       "      <th>1</th>\n",
       "      <td>0</td>\n",
       "      <td>611</td>\n",
       "    </tr>\n",
       "    <tr>\n",
       "      <th>2</th>\n",
       "      <td>0</td>\n",
       "      <td>919</td>\n",
       "    </tr>\n",
       "    <tr>\n",
       "      <th>3</th>\n",
       "      <td>0</td>\n",
       "      <td>575</td>\n",
       "    </tr>\n",
       "    <tr>\n",
       "      <th>4</th>\n",
       "      <td>0</td>\n",
       "      <td>563</td>\n",
       "    </tr>\n",
       "    <tr>\n",
       "      <th>...</th>\n",
       "      <td>...</td>\n",
       "      <td>...</td>\n",
       "    </tr>\n",
       "    <tr>\n",
       "      <th>164081</th>\n",
       "      <td>0</td>\n",
       "      <td>1145</td>\n",
       "    </tr>\n",
       "    <tr>\n",
       "      <th>164082</th>\n",
       "      <td>0</td>\n",
       "      <td>909</td>\n",
       "    </tr>\n",
       "    <tr>\n",
       "      <th>164083</th>\n",
       "      <td>0</td>\n",
       "      <td>556</td>\n",
       "    </tr>\n",
       "    <tr>\n",
       "      <th>164084</th>\n",
       "      <td>0</td>\n",
       "      <td>1061</td>\n",
       "    </tr>\n",
       "    <tr>\n",
       "      <th>164085</th>\n",
       "      <td>0</td>\n",
       "      <td>891</td>\n",
       "    </tr>\n",
       "  </tbody>\n",
       "</table>\n",
       "<p>164086 rows × 2 columns</p>\n",
       "</div>"
      ],
      "text/plain": [
       "                              time    mV\n",
       "0       2025 06 26 11:42:14.431748   339\n",
       "1                                0   611\n",
       "2                                0   919\n",
       "3                                0   575\n",
       "4                                0   563\n",
       "...                            ...   ...\n",
       "164081                           0  1145\n",
       "164082                           0   909\n",
       "164083                           0   556\n",
       "164084                           0  1061\n",
       "164085                           0   891\n",
       "\n",
       "[164086 rows x 2 columns]"
      ]
     },
     "execution_count": 112,
     "metadata": {},
     "output_type": "execute_result"
    }
   ],
   "source": [
    "data_5=pd.read_csv(\"D:\\\\RKMGEC COLLEGE\\\\internship iiest shibpur\\\\ECG _5.csv\")\n",
    "data_5=data_5.fillna(0)\n",
    "data_5"
   ]
  },
  {
   "cell_type": "markdown",
   "id": "692b933b-0f98-4184-9919-f117de1724fc",
   "metadata": {},
   "source": [
    "## For ECG Signal_6"
   ]
  },
  {
   "cell_type": "code",
   "execution_count": 115,
   "id": "069605d6-2e49-4e70-8194-ab647dc7a60c",
   "metadata": {},
   "outputs": [
    {
     "data": {
      "text/html": [
       "<div>\n",
       "<style scoped>\n",
       "    .dataframe tbody tr th:only-of-type {\n",
       "        vertical-align: middle;\n",
       "    }\n",
       "\n",
       "    .dataframe tbody tr th {\n",
       "        vertical-align: top;\n",
       "    }\n",
       "\n",
       "    .dataframe thead th {\n",
       "        text-align: right;\n",
       "    }\n",
       "</style>\n",
       "<table border=\"1\" class=\"dataframe\">\n",
       "  <thead>\n",
       "    <tr style=\"text-align: right;\">\n",
       "      <th></th>\n",
       "      <th>time</th>\n",
       "      <th>mV</th>\n",
       "    </tr>\n",
       "  </thead>\n",
       "  <tbody>\n",
       "    <tr>\n",
       "      <th>0</th>\n",
       "      <td>2025 06 26 11:42:14.431748</td>\n",
       "      <td>339</td>\n",
       "    </tr>\n",
       "    <tr>\n",
       "      <th>1</th>\n",
       "      <td>0</td>\n",
       "      <td>611</td>\n",
       "    </tr>\n",
       "    <tr>\n",
       "      <th>2</th>\n",
       "      <td>0</td>\n",
       "      <td>919</td>\n",
       "    </tr>\n",
       "    <tr>\n",
       "      <th>3</th>\n",
       "      <td>0</td>\n",
       "      <td>575</td>\n",
       "    </tr>\n",
       "    <tr>\n",
       "      <th>4</th>\n",
       "      <td>0</td>\n",
       "      <td>563</td>\n",
       "    </tr>\n",
       "    <tr>\n",
       "      <th>...</th>\n",
       "      <td>...</td>\n",
       "      <td>...</td>\n",
       "    </tr>\n",
       "    <tr>\n",
       "      <th>178627</th>\n",
       "      <td>0</td>\n",
       "      <td>989</td>\n",
       "    </tr>\n",
       "    <tr>\n",
       "      <th>178628</th>\n",
       "      <td>0</td>\n",
       "      <td>1009</td>\n",
       "    </tr>\n",
       "    <tr>\n",
       "      <th>178629</th>\n",
       "      <td>0</td>\n",
       "      <td>1021</td>\n",
       "    </tr>\n",
       "    <tr>\n",
       "      <th>178630</th>\n",
       "      <td>0</td>\n",
       "      <td>1025</td>\n",
       "    </tr>\n",
       "    <tr>\n",
       "      <th>178631</th>\n",
       "      <td>0</td>\n",
       "      <td>1026</td>\n",
       "    </tr>\n",
       "  </tbody>\n",
       "</table>\n",
       "<p>178632 rows × 2 columns</p>\n",
       "</div>"
      ],
      "text/plain": [
       "                              time    mV\n",
       "0       2025 06 26 11:42:14.431748   339\n",
       "1                                0   611\n",
       "2                                0   919\n",
       "3                                0   575\n",
       "4                                0   563\n",
       "...                            ...   ...\n",
       "178627                           0   989\n",
       "178628                           0  1009\n",
       "178629                           0  1021\n",
       "178630                           0  1025\n",
       "178631                           0  1026\n",
       "\n",
       "[178632 rows x 2 columns]"
      ]
     },
     "execution_count": 115,
     "metadata": {},
     "output_type": "execute_result"
    }
   ],
   "source": [
    "data_6=pd.read_csv(\"D:\\\\RKMGEC COLLEGE\\\\internship iiest shibpur\\\\ECG_6.csv\")\n",
    "data_6=data_6.fillna(0)\n",
    "data_6"
   ]
  },
  {
   "cell_type": "markdown",
   "id": "912e2dfc-4cb9-47a8-bb74-c02e10b542a1",
   "metadata": {},
   "source": [
    "## For ECG Signal_7"
   ]
  },
  {
   "cell_type": "code",
   "execution_count": 117,
   "id": "68a6c326-ffe5-4aaa-9641-2709cdc3f272",
   "metadata": {},
   "outputs": [
    {
     "data": {
      "text/html": [
       "<div>\n",
       "<style scoped>\n",
       "    .dataframe tbody tr th:only-of-type {\n",
       "        vertical-align: middle;\n",
       "    }\n",
       "\n",
       "    .dataframe tbody tr th {\n",
       "        vertical-align: top;\n",
       "    }\n",
       "\n",
       "    .dataframe thead th {\n",
       "        text-align: right;\n",
       "    }\n",
       "</style>\n",
       "<table border=\"1\" class=\"dataframe\">\n",
       "  <thead>\n",
       "    <tr style=\"text-align: right;\">\n",
       "      <th></th>\n",
       "      <th>time</th>\n",
       "      <th>mV</th>\n",
       "    </tr>\n",
       "  </thead>\n",
       "  <tbody>\n",
       "    <tr>\n",
       "      <th>0</th>\n",
       "      <td>2025 06 26 11:42:14.431748</td>\n",
       "      <td>339</td>\n",
       "    </tr>\n",
       "    <tr>\n",
       "      <th>1</th>\n",
       "      <td>0</td>\n",
       "      <td>611</td>\n",
       "    </tr>\n",
       "    <tr>\n",
       "      <th>2</th>\n",
       "      <td>0</td>\n",
       "      <td>919</td>\n",
       "    </tr>\n",
       "    <tr>\n",
       "      <th>3</th>\n",
       "      <td>0</td>\n",
       "      <td>575</td>\n",
       "    </tr>\n",
       "    <tr>\n",
       "      <th>4</th>\n",
       "      <td>0</td>\n",
       "      <td>563</td>\n",
       "    </tr>\n",
       "    <tr>\n",
       "      <th>...</th>\n",
       "      <td>...</td>\n",
       "      <td>...</td>\n",
       "    </tr>\n",
       "    <tr>\n",
       "      <th>193085</th>\n",
       "      <td>0</td>\n",
       "      <td>1237</td>\n",
       "    </tr>\n",
       "    <tr>\n",
       "      <th>193086</th>\n",
       "      <td>0</td>\n",
       "      <td>1384</td>\n",
       "    </tr>\n",
       "    <tr>\n",
       "      <th>193087</th>\n",
       "      <td>0</td>\n",
       "      <td>1118</td>\n",
       "    </tr>\n",
       "    <tr>\n",
       "      <th>193088</th>\n",
       "      <td>0</td>\n",
       "      <td>1153</td>\n",
       "    </tr>\n",
       "    <tr>\n",
       "      <th>193089</th>\n",
       "      <td>0</td>\n",
       "      <td>1247</td>\n",
       "    </tr>\n",
       "  </tbody>\n",
       "</table>\n",
       "<p>193090 rows × 2 columns</p>\n",
       "</div>"
      ],
      "text/plain": [
       "                              time    mV\n",
       "0       2025 06 26 11:42:14.431748   339\n",
       "1                                0   611\n",
       "2                                0   919\n",
       "3                                0   575\n",
       "4                                0   563\n",
       "...                            ...   ...\n",
       "193085                           0  1237\n",
       "193086                           0  1384\n",
       "193087                           0  1118\n",
       "193088                           0  1153\n",
       "193089                           0  1247\n",
       "\n",
       "[193090 rows x 2 columns]"
      ]
     },
     "execution_count": 117,
     "metadata": {},
     "output_type": "execute_result"
    }
   ],
   "source": [
    "data_7=pd.read_csv(\"D:\\\\RKMGEC COLLEGE\\\\internship iiest shibpur\\\\ECG _7.csv\")\n",
    "data_7=data_7.fillna(0)\n",
    "data_7"
   ]
  },
  {
   "cell_type": "markdown",
   "id": "a605ac1c-136c-446e-ae0e-7d2273bf94f0",
   "metadata": {},
   "source": [
    "## For ECG Signal_8"
   ]
  },
  {
   "cell_type": "code",
   "execution_count": 120,
   "id": "02af08be-0949-47df-ab96-eef0e82d320b",
   "metadata": {},
   "outputs": [
    {
     "data": {
      "text/html": [
       "<div>\n",
       "<style scoped>\n",
       "    .dataframe tbody tr th:only-of-type {\n",
       "        vertical-align: middle;\n",
       "    }\n",
       "\n",
       "    .dataframe tbody tr th {\n",
       "        vertical-align: top;\n",
       "    }\n",
       "\n",
       "    .dataframe thead th {\n",
       "        text-align: right;\n",
       "    }\n",
       "</style>\n",
       "<table border=\"1\" class=\"dataframe\">\n",
       "  <thead>\n",
       "    <tr style=\"text-align: right;\">\n",
       "      <th></th>\n",
       "      <th>time</th>\n",
       "      <th>mV</th>\n",
       "    </tr>\n",
       "  </thead>\n",
       "  <tbody>\n",
       "    <tr>\n",
       "      <th>0</th>\n",
       "      <td>2025 06 26 11:42:14.431748</td>\n",
       "      <td>339</td>\n",
       "    </tr>\n",
       "    <tr>\n",
       "      <th>1</th>\n",
       "      <td>0</td>\n",
       "      <td>611</td>\n",
       "    </tr>\n",
       "    <tr>\n",
       "      <th>2</th>\n",
       "      <td>0</td>\n",
       "      <td>919</td>\n",
       "    </tr>\n",
       "    <tr>\n",
       "      <th>3</th>\n",
       "      <td>0</td>\n",
       "      <td>575</td>\n",
       "    </tr>\n",
       "    <tr>\n",
       "      <th>4</th>\n",
       "      <td>0</td>\n",
       "      <td>563</td>\n",
       "    </tr>\n",
       "    <tr>\n",
       "      <th>...</th>\n",
       "      <td>...</td>\n",
       "      <td>...</td>\n",
       "    </tr>\n",
       "    <tr>\n",
       "      <th>206413</th>\n",
       "      <td>0</td>\n",
       "      <td>1009</td>\n",
       "    </tr>\n",
       "    <tr>\n",
       "      <th>206414</th>\n",
       "      <td>0</td>\n",
       "      <td>892</td>\n",
       "    </tr>\n",
       "    <tr>\n",
       "      <th>206415</th>\n",
       "      <td>0</td>\n",
       "      <td>1048</td>\n",
       "    </tr>\n",
       "    <tr>\n",
       "      <th>206416</th>\n",
       "      <td>0</td>\n",
       "      <td>1123</td>\n",
       "    </tr>\n",
       "    <tr>\n",
       "      <th>206417</th>\n",
       "      <td>0</td>\n",
       "      <td>993</td>\n",
       "    </tr>\n",
       "  </tbody>\n",
       "</table>\n",
       "<p>206418 rows × 2 columns</p>\n",
       "</div>"
      ],
      "text/plain": [
       "                              time    mV\n",
       "0       2025 06 26 11:42:14.431748   339\n",
       "1                                0   611\n",
       "2                                0   919\n",
       "3                                0   575\n",
       "4                                0   563\n",
       "...                            ...   ...\n",
       "206413                           0  1009\n",
       "206414                           0   892\n",
       "206415                           0  1048\n",
       "206416                           0  1123\n",
       "206417                           0   993\n",
       "\n",
       "[206418 rows x 2 columns]"
      ]
     },
     "execution_count": 120,
     "metadata": {},
     "output_type": "execute_result"
    }
   ],
   "source": [
    "data_8=pd.read_csv(\"D:\\\\RKMGEC COLLEGE\\\\internship iiest shibpur\\\\ECG _8.csv\")\n",
    "data_8=data_8.fillna(0)\n",
    "data_8"
   ]
  },
  {
   "cell_type": "markdown",
   "id": "1554ef3c-0127-43ac-8501-c73a81a1bc1d",
   "metadata": {},
   "source": [
    "## For ECG Signal_9"
   ]
  },
  {
   "cell_type": "code",
   "execution_count": 123,
   "id": "316afce9-b8fb-48c2-b735-fe1d0f9359cd",
   "metadata": {},
   "outputs": [
    {
     "data": {
      "text/html": [
       "<div>\n",
       "<style scoped>\n",
       "    .dataframe tbody tr th:only-of-type {\n",
       "        vertical-align: middle;\n",
       "    }\n",
       "\n",
       "    .dataframe tbody tr th {\n",
       "        vertical-align: top;\n",
       "    }\n",
       "\n",
       "    .dataframe thead th {\n",
       "        text-align: right;\n",
       "    }\n",
       "</style>\n",
       "<table border=\"1\" class=\"dataframe\">\n",
       "  <thead>\n",
       "    <tr style=\"text-align: right;\">\n",
       "      <th></th>\n",
       "      <th>time</th>\n",
       "      <th>mV</th>\n",
       "    </tr>\n",
       "  </thead>\n",
       "  <tbody>\n",
       "    <tr>\n",
       "      <th>0</th>\n",
       "      <td>2025 06 26 11:42:14.431748</td>\n",
       "      <td>339</td>\n",
       "    </tr>\n",
       "    <tr>\n",
       "      <th>1</th>\n",
       "      <td>0</td>\n",
       "      <td>611</td>\n",
       "    </tr>\n",
       "    <tr>\n",
       "      <th>2</th>\n",
       "      <td>0</td>\n",
       "      <td>919</td>\n",
       "    </tr>\n",
       "    <tr>\n",
       "      <th>3</th>\n",
       "      <td>0</td>\n",
       "      <td>575</td>\n",
       "    </tr>\n",
       "    <tr>\n",
       "      <th>4</th>\n",
       "      <td>0</td>\n",
       "      <td>563</td>\n",
       "    </tr>\n",
       "    <tr>\n",
       "      <th>...</th>\n",
       "      <td>...</td>\n",
       "      <td>...</td>\n",
       "    </tr>\n",
       "    <tr>\n",
       "      <th>223171</th>\n",
       "      <td>0</td>\n",
       "      <td>962</td>\n",
       "    </tr>\n",
       "    <tr>\n",
       "      <th>223172</th>\n",
       "      <td>0</td>\n",
       "      <td>948</td>\n",
       "    </tr>\n",
       "    <tr>\n",
       "      <th>223173</th>\n",
       "      <td>0</td>\n",
       "      <td>944</td>\n",
       "    </tr>\n",
       "    <tr>\n",
       "      <th>223174</th>\n",
       "      <td>0</td>\n",
       "      <td>946</td>\n",
       "    </tr>\n",
       "    <tr>\n",
       "      <th>223175</th>\n",
       "      <td>0</td>\n",
       "      <td>947</td>\n",
       "    </tr>\n",
       "  </tbody>\n",
       "</table>\n",
       "<p>223176 rows × 2 columns</p>\n",
       "</div>"
      ],
      "text/plain": [
       "                              time   mV\n",
       "0       2025 06 26 11:42:14.431748  339\n",
       "1                                0  611\n",
       "2                                0  919\n",
       "3                                0  575\n",
       "4                                0  563\n",
       "...                            ...  ...\n",
       "223171                           0  962\n",
       "223172                           0  948\n",
       "223173                           0  944\n",
       "223174                           0  946\n",
       "223175                           0  947\n",
       "\n",
       "[223176 rows x 2 columns]"
      ]
     },
     "execution_count": 123,
     "metadata": {},
     "output_type": "execute_result"
    }
   ],
   "source": [
    "data_9=pd.read_csv(\"D:\\\\RKMGEC COLLEGE\\\\internship iiest shibpur\\\\ECG _9.csv\")\n",
    "data_9=data_9.fillna(0)\n",
    "data_9"
   ]
  },
  {
   "cell_type": "markdown",
   "id": "6fe8cb7c-76a6-4dee-bd2e-e3a2025c9367",
   "metadata": {},
   "source": [
    "## Plotting Of ECG Signals"
   ]
  },
  {
   "cell_type": "code",
   "execution_count": 126,
   "id": "aaab7022-b095-44b7-b7cd-3ec44ae0453f",
   "metadata": {},
   "outputs": [
    {
     "data": {
      "text/plain": [
       "array([339, 611, 919, ..., 897, 891, 894], dtype=int64)"
      ]
     },
     "execution_count": 126,
     "metadata": {},
     "output_type": "execute_result"
    }
   ],
   "source": [
    "ecg_3=data_3.iloc[0:125270,1:2] .values.ravel()\n",
    "ecg_3\n",
    "\n"
   ]
  },
  {
   "cell_type": "code",
   "execution_count": 127,
   "id": "6637662b-6fc1-42db-80ca-7448807d86a1",
   "metadata": {},
   "outputs": [
    {
     "data": {
      "text/plain": [
       "(125270,)"
      ]
     },
     "execution_count": 127,
     "metadata": {},
     "output_type": "execute_result"
    }
   ],
   "source": [
    "ecg_3.shape"
   ]
  },
  {
   "cell_type": "code",
   "execution_count": 128,
   "id": "8888d1c4-0aab-4ab6-ac3e-4521b06cde8b",
   "metadata": {},
   "outputs": [
    {
     "data": {
      "text/plain": [
       "array([339, 611, 919, ..., 629, 628, 629], dtype=int64)"
      ]
     },
     "execution_count": 128,
     "metadata": {},
     "output_type": "execute_result"
    }
   ],
   "source": [
    "ecg_4=data_4.iloc[0:150260,1:2] .values.ravel()\n",
    "ecg_4\n"
   ]
  },
  {
   "cell_type": "code",
   "execution_count": 130,
   "id": "8d1b0093-d5e6-4029-b1cd-89c19419eaed",
   "metadata": {},
   "outputs": [
    {
     "data": {
      "text/plain": [
       "(150260,)"
      ]
     },
     "execution_count": 130,
     "metadata": {},
     "output_type": "execute_result"
    }
   ],
   "source": [
    "ecg_4.shape"
   ]
  },
  {
   "cell_type": "code",
   "execution_count": 131,
   "id": "d7802cbb-3f57-4f08-9156-31065cc0588f",
   "metadata": {},
   "outputs": [
    {
     "data": {
      "text/plain": [
       "(164086,)"
      ]
     },
     "execution_count": 131,
     "metadata": {},
     "output_type": "execute_result"
    }
   ],
   "source": [
    "ecg_5=data_5.iloc[0:164086,1:2] .values.ravel()\n",
    "ecg_5\n",
    "ecg_5.shape"
   ]
  },
  {
   "cell_type": "code",
   "execution_count": 135,
   "id": "3a4bbb4e-2c2b-4dc0-af6f-61c32bf3c902",
   "metadata": {},
   "outputs": [
    {
     "data": {
      "text/plain": [
       "(178632,)"
      ]
     },
     "execution_count": 135,
     "metadata": {},
     "output_type": "execute_result"
    }
   ],
   "source": [
    "ecg_6=data_6.iloc[0:178632,1:2] .values.ravel()\n",
    "ecg_6\n",
    "ecg_6.shape"
   ]
  },
  {
   "cell_type": "code",
   "execution_count": 138,
   "id": "a295387d-8dc2-4806-a824-15e1c9c81f3f",
   "metadata": {},
   "outputs": [
    {
     "data": {
      "text/plain": [
       "(193090,)"
      ]
     },
     "execution_count": 138,
     "metadata": {},
     "output_type": "execute_result"
    }
   ],
   "source": [
    "ecg_7=data_7.iloc[0:193090,1:2] .values.ravel()\n",
    "ecg_7\n",
    "ecg_7.shape"
   ]
  },
  {
   "cell_type": "code",
   "execution_count": 139,
   "id": "c2206757-56b9-4faf-99ef-b30d581d0f43",
   "metadata": {},
   "outputs": [
    {
     "data": {
      "text/plain": [
       "(206418,)"
      ]
     },
     "execution_count": 139,
     "metadata": {},
     "output_type": "execute_result"
    }
   ],
   "source": [
    "ecg_8=data_8.iloc[0:206418,1:2] .values.ravel()\n",
    "ecg_8\n",
    "ecg_8.shape"
   ]
  },
  {
   "cell_type": "code",
   "execution_count": 140,
   "id": "57246558-3437-4746-8006-1b23f27be982",
   "metadata": {},
   "outputs": [
    {
     "data": {
      "text/plain": [
       "(223176,)"
      ]
     },
     "execution_count": 140,
     "metadata": {},
     "output_type": "execute_result"
    }
   ],
   "source": [
    "ecg_9=data_9.iloc[0:223176,1:2] .values.ravel()\n",
    "ecg_9\n",
    "ecg_9.shape"
   ]
  },
  {
   "cell_type": "code",
   "execution_count": 142,
   "id": "a1994da2-8c0b-49b2-9f02-5ea1b2155152",
   "metadata": {},
   "outputs": [
    {
     "data": {
      "image/png": "[encoded data removed]",
      "text/plain": [
       "<Figure size 2000x600 with 1 Axes>"
      ]
     },
     "metadata": {},
     "output_type": "display_data"
    },
    {
     "data": {
      "image/png": "[encoded data removed]",
      "text/plain": [
       "<Figure size 2000x600 with 1 Axes>"
      ]
     },
     "metadata": {},
     "output_type": "display_data"
    },
    {
     "data": {
      "image/png": "[encoded data removed]",
      "text/plain": [
       "<Figure size 2000x600 with 1 Axes>"
      ]
     },
     "metadata": {},
     "output_type": "display_data"
    },
    {
     "data": {
      "image/png": "[encoded data removed]",
      "text/plain": [
       "<Figure size 2000x600 with 1 Axes>"
      ]
     },
     "metadata": {},
     "output_type": "display_data"
    },
    {
     "data": {
      "image/png": "[encoded data removed]",
      "text/plain": [
       "<Figure size 2000x600 with 1 Axes>"
      ]
     },
     "metadata": {},
     "output_type": "display_data"
    },
    {
     "data": {
      "image/png": "[encoded data removed]",
      "text/plain": [
       "<Figure size 2000x600 with 1 Axes>"
      ]
     },
     "metadata": {},
     "output_type": "display_data"
    },
    {
     "data": {
      "image/png": "[encoded data removed]",
      "text/plain": [
       "<Figure size 2000x600 with 1 Axes>"
      ]
     },
     "metadata": {},
     "output_type": "display_data"
    }
   ],
   "source": [
    "plt.figure(figsize=(20,6))\n",
    "plt.subplot(3,3,1)\n",
    "plt.plot(ecg_3,linewidth=3,label='RawECG')\n",
    "plt.xlabel('Time(s)')\n",
    "plt.ylabel('Amplitude')\n",
    "plt.title('ECG_3')\n",
    "plt.xlim([30000,30080])\n",
    "plt.ylim([1060,1400])\n",
    "\n",
    "plt.figure(figsize=(20,6))\n",
    "plt.subplot(3,3,2)\n",
    "plt.plot(ecg_4,linewidth=3,label='RawECG')\n",
    "plt.xlabel('Time(s)')\n",
    "plt.ylabel('Amplitude')\n",
    "plt.title('ECG_4')\n",
    "plt.xlim([30000,30080])\n",
    "plt.ylim([1060,1400])\n",
    "\n",
    "plt.figure(figsize=(20,6))\n",
    "plt.subplot(3,3,3)\n",
    "plt.plot(ecg_5,linewidth=3,label='RawECG')\n",
    "plt.xlabel('Time(s)')\n",
    "plt.ylabel('Amplitude')\n",
    "plt.title('ECG_5')\n",
    "plt.xlim([30000,30080])\n",
    "plt.ylim([1060,1400])\n",
    "\n",
    "plt.figure(figsize=(20,6))\n",
    "plt.subplot(3,3,4)\n",
    "plt.plot(ecg_6,linewidth=3,label='RawECG')\n",
    "plt.xlabel('Time(s)')\n",
    "plt.ylabel('Amplitude')\n",
    "plt.title('ECG_6')\n",
    "plt.xlim([30000,30080])\n",
    "plt.ylim([1060,1400])\n",
    "\n",
    "plt.figure(figsize=(20,6))\n",
    "plt.subplot(3,3,5)\n",
    "plt.plot(ecg_7,linewidth=3,label='RawECG')\n",
    "plt.xlabel('Time(s)')\n",
    "plt.ylabel('Amplitude')\n",
    "plt.title('ECG_7')\n",
    "plt.xlim([30000,30080])\n",
    "plt.ylim([1060,1400])\n",
    "\n",
    "plt.figure(figsize=(20,6))\n",
    "plt.subplot(3,3,6)\n",
    "plt.plot(ecg_8,linewidth=3,label='RawECG')\n",
    "plt.xlabel('Time(s)')\n",
    "plt.ylabel('Amplitude')\n",
    "plt.title('ECG_8')\n",
    "plt.xlim([30000,30080])\n",
    "plt.ylim([1060,1400])\n",
    "\n",
    "plt.figure(figsize=(20,6))\n",
    "plt.subplot(3,3,7)\n",
    "plt.plot(ecg_9,linewidth=3,label='RawECG')\n",
    "plt.xlabel('Time(s)')\n",
    "plt.ylabel('Amplitude')\n",
    "plt.title('ECG_9')\n",
    "plt.xlim([30000,30080])\n",
    "plt.ylim([1060,1400])\n",
    "\n",
    "plt.legend()\n",
    "plt.show()"
   ]
  },
  {
   "cell_type": "markdown",
   "id": "fe1792bf-c956-4fd5-bd21-750e5e4cc8ed",
   "metadata": {},
   "source": [
    "## Stastical Analysis Min,Max, Mean, Median , Sum,Standard Deviation :"
   ]
  },
  {
   "cell_type": "code",
   "execution_count": 147,
   "id": "455ed8d6-b4e0-4983-83bd-a00c11a95fe6",
   "metadata": {},
   "outputs": [],
   "source": [
    "ecg_3_list = ecg_3.astype(float).tolist()\n",
    "ecg_4_list = ecg_4.astype(float).tolist()\n",
    "ecg_5_list = ecg_5.astype(float).tolist()\n",
    "ecg_6_list = ecg_6.astype(float).tolist()\n",
    "ecg_7_list = ecg_7.astype(float).tolist()\n",
    "ecg_8_list = ecg_8.astype(float).tolist()\n",
    "ecg_9_list = ecg_9.astype(float).tolist()\n",
    "\n"
   ]
  },
  {
   "cell_type": "code",
   "execution_count": 148,
   "id": "4fd88281-8510-4aa7-be0b-1d59fec5ecdc",
   "metadata": {},
   "outputs": [
    {
     "name": "stdout",
     "output_type": "stream",
     "text": [
      "[Minimum, Maximun, Mean, Median, Sum, Standard Deviation]\n",
      "\n",
      "\n",
      "For Signal ECG_3:\n",
      "[0, 49922, 906.7760277799952, 943.0, 113591833, 1009.4295822931235]\n",
      "\n",
      "\n",
      "For Signal ECG_4:\n",
      "[0, 49922, 864.5537734593371, 880.0, 129907850, 926.873334468703]\n",
      "\n",
      "\n",
      "For Signal ECG_5:\n",
      "[0, 49922, 875.4911631705326, 897.0, 143655843, 891.1243181519873]\n",
      "\n",
      "\n",
      "For Signal ECG_6:\n",
      "[0, 49922, 869.8626449908191, 907.0, 155385304, 859.0179782072886]\n",
      "\n",
      "\n",
      "For Signal ECG_7:\n",
      "[0, 49922, 889.9455228131959, 917.0, 171839581, 973.3353846634726]\n",
      "\n",
      "\n",
      "For Signal ECG_8:\n",
      "[0, 49922, 895.7650544041702, 933.0, 184902031, 941.8098817228146]\n",
      "\n",
      "\n",
      "For Signal ECG_9:\n",
      "[0, 49922, 895.0560902606015, 927.0, 199755038, 906.3844579712833]\n",
      "\n",
      "\n"
     ]
    }
   ],
   "source": [
    "print(\"[Minimum, Maximun, Mean, Median, Sum, Standard Deviation]\\n\\n\")\n",
    "print(\"For Signal ECG_3:\")\n",
    "min_3=np.min(ecg_3)\n",
    "max_3=np.max(ecg_3)\n",
    "Mean_3=np.mean(ecg_3)\n",
    "Median_3=np.median(ecg_3)\n",
    "Sum_3=np.sum(ecg_3)\n",
    "STD_3=st.stdev(ecg_3_list)\n",
    "print([min_3, max_3, Mean_3, Median_3, Sum_3, STD_3])\n",
    "print(\"\\n\")\n",
    "\n",
    "print(\"For Signal ECG_4:\")\n",
    "min_4=np.min(ecg_4)\n",
    "max_4=np.max(ecg_4)\n",
    "Mean_4=np.mean(ecg_4)\n",
    "Median_4=np.median(ecg_4)\n",
    "Sum_4=np.sum(ecg_4)\n",
    "STD_4=st.stdev(ecg_4_list)\n",
    "print([min_4, max_4, Mean_4, Median_4, Sum_4, STD_4])\n",
    "print(\"\\n\")\n",
    "\n",
    "print(\"For Signal ECG_5:\")\n",
    "min_5=np.min(ecg_5)\n",
    "max_5=np.max(ecg_5)\n",
    "Mean_5=np.mean(ecg_5)\n",
    "Median_5=np.median(ecg_5)\n",
    "Sum_5=np.sum(ecg_5)\n",
    "STD_5=st.stdev(ecg_5_list)\n",
    "print([min_5, max_5, Mean_5, Median_5, Sum_5, STD_5])\n",
    "print(\"\\n\")\n",
    "\n",
    "print(\"For Signal ECG_6:\")\n",
    "min_6=np.min(ecg_6)\n",
    "max_6=np.max(ecg_6)\n",
    "Mean_6=np.mean(ecg_6)\n",
    "Median_6=np.median(ecg_6)\n",
    "Sum_6=np.sum(ecg_6)\n",
    "STD_6=st.stdev(ecg_6_list)\n",
    "print([min_6, max_6, Mean_6, Median_6, Sum_6, STD_6])\n",
    "print(\"\\n\")\n",
    "\n",
    "print(\"For Signal ECG_7:\")\n",
    "min_7=np.min(ecg_7)\n",
    "max_7=np.max(ecg_7)\n",
    "Mean_7=np.mean(ecg_7)\n",
    "Median_7=np.median(ecg_7)\n",
    "Sum_7=np.sum(ecg_7)\n",
    "STD_7=st.stdev(ecg_7_list)\n",
    "print([min_7, max_7, Mean_7, Median_7, Sum_7, STD_7])\n",
    "print(\"\\n\")\n",
    "\n",
    "print(\"For Signal ECG_8:\")\n",
    "min_8=np.min(ecg_8)\n",
    "max_8=np.max(ecg_8)\n",
    "Mean_8=np.mean(ecg_8)\n",
    "Median_8=np.median(ecg_8)\n",
    "Sum_8=np.sum(ecg_8)\n",
    "STD_8=st.stdev(ecg_8_list)\n",
    "print([min_8, max_8, Mean_8, Median_8, Sum_8, STD_8])\n",
    "print(\"\\n\")\n",
    "\n",
    "print(\"For Signal ECG_9:\")\n",
    "min_9=np.min(ecg_9)\n",
    "max_9=np.max(ecg_9)\n",
    "Mean_9=np.mean(ecg_9)\n",
    "Median_9=np.median(ecg_9)\n",
    "Sum_9=np.sum(ecg_9)\n",
    "STD_9=st.stdev(ecg_9_list)\n",
    "print([min_9, max_9, Mean_9, Median_9, Sum_9, STD_9])\n",
    "print(\"\\n\")"
   ]
  },
  {
   "cell_type": "markdown",
   "id": "7cf25173-02ba-4bc7-b175-718c8df79902",
   "metadata": {},
   "source": [
    "## Average Of Min,Max, Mean, Median , Sum,Standard Deviation :"
   ]
  },
  {
   "cell_type": "code",
   "execution_count": 150,
   "id": "2e399c05-7688-417a-a1e5-30e7d3e470e9",
   "metadata": {},
   "outputs": [
    {
     "name": "stdout",
     "output_type": "stream",
     "text": [
      "The Average Of : [Minimum, Maximun, Mean, Median, Sum, Standard Deviation]\n",
      "\n",
      "[0.0, 49922.0, 885.350039554093, 914.8571428571429, 157005354.2857143, 929.710705354096]\n"
     ]
    }
   ],
   "source": [
    "Avg_min= np.mean([min_3,min_4,min_5,min_6,min_7,min_8,min_9])\n",
    "Avg_max= np.mean([max_3,max_4,max_5,max_6,max_7,max_8,max_9])\n",
    "Avg_mean= np.mean([Mean_3,Mean_4,Mean_5,Mean_6,Mean_7,Mean_8,Mean_9])\n",
    "Avg_median= np.mean([Median_3,Median_4,Median_5,Median_6,Median_7,Median_8,Median_9])\n",
    "Avg_sum= np.mean([Sum_3,Sum_4,Sum_5,Sum_6,Sum_7,Sum_8,Sum_9])\n",
    "Avg_STD= np.mean([STD_3,STD_4,STD_5,STD_6,STD_7,STD_8,STD_9])\n",
    "print(\"The Average Of : [Minimum, Maximun, Mean, Median, Sum, Standard Deviation]\\n\")\n",
    "print([Avg_min, Avg_max, Avg_mean, Avg_median, Avg_sum, Avg_STD])\n",
    "\n",
    "\n"
   ]
  },
  {
   "cell_type": "markdown",
   "id": "f86fb239-dfad-4be5-bd9c-1cd172c6f2de",
   "metadata": {},
   "source": [
    "## Outlier Removing Using Z-score Method"
   ]
  },
  {
   "cell_type": "markdown",
   "id": "9c91591a-d91b-4df9-92d6-714d4f6daf8e",
   "metadata": {},
   "source": [
    "## Removing Outliers From ECG Signal_3 "
   ]
  },
  {
   "cell_type": "code",
   "execution_count": 153,
   "id": "ec584965-f0d4-4ba0-99dc-4fcc3552855d",
   "metadata": {},
   "outputs": [
    {
     "data": {
      "text/html": [
       "<div>\n",
       "<style scoped>\n",
       "    .dataframe tbody tr th:only-of-type {\n",
       "        vertical-align: middle;\n",
       "    }\n",
       "\n",
       "    .dataframe tbody tr th {\n",
       "        vertical-align: top;\n",
       "    }\n",
       "\n",
       "    .dataframe thead th {\n",
       "        text-align: right;\n",
       "    }\n",
       "</style>\n",
       "<table border=\"1\" class=\"dataframe\">\n",
       "  <thead>\n",
       "    <tr style=\"text-align: right;\">\n",
       "      <th></th>\n",
       "      <th>time</th>\n",
       "      <th>mV</th>\n",
       "      <th>zscore</th>\n",
       "    </tr>\n",
       "  </thead>\n",
       "  <tbody>\n",
       "    <tr>\n",
       "      <th>0</th>\n",
       "      <td>2025 06 26 11:42:14.431748</td>\n",
       "      <td>339</td>\n",
       "      <td>-0.587656</td>\n",
       "    </tr>\n",
       "    <tr>\n",
       "      <th>1</th>\n",
       "      <td>0</td>\n",
       "      <td>611</td>\n",
       "      <td>-0.295092</td>\n",
       "    </tr>\n",
       "    <tr>\n",
       "      <th>2</th>\n",
       "      <td>0</td>\n",
       "      <td>919</td>\n",
       "      <td>0.036194</td>\n",
       "    </tr>\n",
       "    <tr>\n",
       "      <th>3</th>\n",
       "      <td>0</td>\n",
       "      <td>575</td>\n",
       "      <td>-0.333814</td>\n",
       "    </tr>\n",
       "    <tr>\n",
       "      <th>4</th>\n",
       "      <td>0</td>\n",
       "      <td>563</td>\n",
       "      <td>-0.346721</td>\n",
       "    </tr>\n",
       "    <tr>\n",
       "      <th>...</th>\n",
       "      <td>...</td>\n",
       "      <td>...</td>\n",
       "      <td>...</td>\n",
       "    </tr>\n",
       "    <tr>\n",
       "      <th>125265</th>\n",
       "      <td>0</td>\n",
       "      <td>901</td>\n",
       "      <td>0.016833</td>\n",
       "    </tr>\n",
       "    <tr>\n",
       "      <th>125266</th>\n",
       "      <td>0</td>\n",
       "      <td>896</td>\n",
       "      <td>0.011455</td>\n",
       "    </tr>\n",
       "    <tr>\n",
       "      <th>125267</th>\n",
       "      <td>0</td>\n",
       "      <td>897</td>\n",
       "      <td>0.012531</td>\n",
       "    </tr>\n",
       "    <tr>\n",
       "      <th>125268</th>\n",
       "      <td>0</td>\n",
       "      <td>891</td>\n",
       "      <td>0.006077</td>\n",
       "    </tr>\n",
       "    <tr>\n",
       "      <th>125269</th>\n",
       "      <td>0</td>\n",
       "      <td>894</td>\n",
       "      <td>0.009304</td>\n",
       "    </tr>\n",
       "  </tbody>\n",
       "</table>\n",
       "<p>125270 rows × 3 columns</p>\n",
       "</div>"
      ],
      "text/plain": [
       "                              time   mV    zscore\n",
       "0       2025 06 26 11:42:14.431748  339 -0.587656\n",
       "1                                0  611 -0.295092\n",
       "2                                0  919  0.036194\n",
       "3                                0  575 -0.333814\n",
       "4                                0  563 -0.346721\n",
       "...                            ...  ...       ...\n",
       "125265                           0  901  0.016833\n",
       "125266                           0  896  0.011455\n",
       "125267                           0  897  0.012531\n",
       "125268                           0  891  0.006077\n",
       "125269                           0  894  0.009304\n",
       "\n",
       "[125270 rows x 3 columns]"
      ]
     },
     "execution_count": 153,
     "metadata": {},
     "output_type": "execute_result"
    }
   ],
   "source": [
    "data_3['zscore']=(data_3.mV-Avg_mean)/Avg_STD\n",
    "data_3.head(125270)"
   ]
  },
  {
   "cell_type": "code",
   "execution_count": 154,
   "id": "ba8a8a08-82b5-4c6f-9fc2-4d4d0fa0d40d",
   "metadata": {},
   "outputs": [
    {
     "data": {
      "text/html": [
       "<div>\n",
       "<style scoped>\n",
       "    .dataframe tbody tr th:only-of-type {\n",
       "        vertical-align: middle;\n",
       "    }\n",
       "\n",
       "    .dataframe tbody tr th {\n",
       "        vertical-align: top;\n",
       "    }\n",
       "\n",
       "    .dataframe thead th {\n",
       "        text-align: right;\n",
       "    }\n",
       "</style>\n",
       "<table border=\"1\" class=\"dataframe\">\n",
       "  <thead>\n",
       "    <tr style=\"text-align: right;\">\n",
       "      <th></th>\n",
       "      <th>time</th>\n",
       "      <th>mV</th>\n",
       "      <th>zscore</th>\n",
       "    </tr>\n",
       "  </thead>\n",
       "  <tbody>\n",
       "    <tr>\n",
       "      <th>0</th>\n",
       "      <td>2025 06 26 11:42:14.431748</td>\n",
       "      <td>339</td>\n",
       "      <td>-0.587656</td>\n",
       "    </tr>\n",
       "    <tr>\n",
       "      <th>1</th>\n",
       "      <td>0</td>\n",
       "      <td>611</td>\n",
       "      <td>-0.295092</td>\n",
       "    </tr>\n",
       "    <tr>\n",
       "      <th>2</th>\n",
       "      <td>0</td>\n",
       "      <td>919</td>\n",
       "      <td>0.036194</td>\n",
       "    </tr>\n",
       "    <tr>\n",
       "      <th>3</th>\n",
       "      <td>0</td>\n",
       "      <td>575</td>\n",
       "      <td>-0.333814</td>\n",
       "    </tr>\n",
       "    <tr>\n",
       "      <th>4</th>\n",
       "      <td>0</td>\n",
       "      <td>563</td>\n",
       "      <td>-0.346721</td>\n",
       "    </tr>\n",
       "    <tr>\n",
       "      <th>...</th>\n",
       "      <td>...</td>\n",
       "      <td>...</td>\n",
       "      <td>...</td>\n",
       "    </tr>\n",
       "    <tr>\n",
       "      <th>125265</th>\n",
       "      <td>0</td>\n",
       "      <td>901</td>\n",
       "      <td>0.016833</td>\n",
       "    </tr>\n",
       "    <tr>\n",
       "      <th>125266</th>\n",
       "      <td>0</td>\n",
       "      <td>896</td>\n",
       "      <td>0.011455</td>\n",
       "    </tr>\n",
       "    <tr>\n",
       "      <th>125267</th>\n",
       "      <td>0</td>\n",
       "      <td>897</td>\n",
       "      <td>0.012531</td>\n",
       "    </tr>\n",
       "    <tr>\n",
       "      <th>125268</th>\n",
       "      <td>0</td>\n",
       "      <td>891</td>\n",
       "      <td>0.006077</td>\n",
       "    </tr>\n",
       "    <tr>\n",
       "      <th>125269</th>\n",
       "      <td>0</td>\n",
       "      <td>894</td>\n",
       "      <td>0.009304</td>\n",
       "    </tr>\n",
       "  </tbody>\n",
       "</table>\n",
       "<p>125151 rows × 3 columns</p>\n",
       "</div>"
      ],
      "text/plain": [
       "                              time   mV    zscore\n",
       "0       2025 06 26 11:42:14.431748  339 -0.587656\n",
       "1                                0  611 -0.295092\n",
       "2                                0  919  0.036194\n",
       "3                                0  575 -0.333814\n",
       "4                                0  563 -0.346721\n",
       "...                            ...  ...       ...\n",
       "125265                           0  901  0.016833\n",
       "125266                           0  896  0.011455\n",
       "125267                           0  897  0.012531\n",
       "125268                           0  891  0.006077\n",
       "125269                           0  894  0.009304\n",
       "\n",
       "[125151 rows x 3 columns]"
      ]
     },
     "execution_count": 154,
     "metadata": {},
     "output_type": "execute_result"
    }
   ],
   "source": [
    "data_no_outlier_3=data_3[(data_3.zscore>-3) & (data_3.zscore<3)]\n",
    "data_no_outlier_3\n"
   ]
  },
  {
   "cell_type": "markdown",
   "id": "1da41b10-d7ef-4ecb-896d-88b3a9de4413",
   "metadata": {},
   "source": [
    "## Removing Outliers From ECG Signal_4"
   ]
  },
  {
   "cell_type": "code",
   "execution_count": 156,
   "id": "ee49e4ef-2ec6-429b-a816-bc5ef558c6f9",
   "metadata": {},
   "outputs": [
    {
     "data": {
      "text/html": [
       "<div>\n",
       "<style scoped>\n",
       "    .dataframe tbody tr th:only-of-type {\n",
       "        vertical-align: middle;\n",
       "    }\n",
       "\n",
       "    .dataframe tbody tr th {\n",
       "        vertical-align: top;\n",
       "    }\n",
       "\n",
       "    .dataframe thead th {\n",
       "        text-align: right;\n",
       "    }\n",
       "</style>\n",
       "<table border=\"1\" class=\"dataframe\">\n",
       "  <thead>\n",
       "    <tr style=\"text-align: right;\">\n",
       "      <th></th>\n",
       "      <th>time</th>\n",
       "      <th>mV</th>\n",
       "      <th>zscore</th>\n",
       "    </tr>\n",
       "  </thead>\n",
       "  <tbody>\n",
       "    <tr>\n",
       "      <th>0</th>\n",
       "      <td>2025 06 26 11:42:14.431748</td>\n",
       "      <td>339</td>\n",
       "      <td>-0.587656</td>\n",
       "    </tr>\n",
       "    <tr>\n",
       "      <th>1</th>\n",
       "      <td>0</td>\n",
       "      <td>611</td>\n",
       "      <td>-0.295092</td>\n",
       "    </tr>\n",
       "    <tr>\n",
       "      <th>2</th>\n",
       "      <td>0</td>\n",
       "      <td>919</td>\n",
       "      <td>0.036194</td>\n",
       "    </tr>\n",
       "    <tr>\n",
       "      <th>3</th>\n",
       "      <td>0</td>\n",
       "      <td>575</td>\n",
       "      <td>-0.333814</td>\n",
       "    </tr>\n",
       "    <tr>\n",
       "      <th>4</th>\n",
       "      <td>0</td>\n",
       "      <td>563</td>\n",
       "      <td>-0.346721</td>\n",
       "    </tr>\n",
       "    <tr>\n",
       "      <th>...</th>\n",
       "      <td>...</td>\n",
       "      <td>...</td>\n",
       "      <td>...</td>\n",
       "    </tr>\n",
       "    <tr>\n",
       "      <th>150255</th>\n",
       "      <td>0</td>\n",
       "      <td>623</td>\n",
       "      <td>-0.282185</td>\n",
       "    </tr>\n",
       "    <tr>\n",
       "      <th>150256</th>\n",
       "      <td>0</td>\n",
       "      <td>627</td>\n",
       "      <td>-0.277882</td>\n",
       "    </tr>\n",
       "    <tr>\n",
       "      <th>150257</th>\n",
       "      <td>0</td>\n",
       "      <td>629</td>\n",
       "      <td>-0.275731</td>\n",
       "    </tr>\n",
       "    <tr>\n",
       "      <th>150258</th>\n",
       "      <td>0</td>\n",
       "      <td>628</td>\n",
       "      <td>-0.276807</td>\n",
       "    </tr>\n",
       "    <tr>\n",
       "      <th>150259</th>\n",
       "      <td>0</td>\n",
       "      <td>629</td>\n",
       "      <td>-0.275731</td>\n",
       "    </tr>\n",
       "  </tbody>\n",
       "</table>\n",
       "<p>150141 rows × 3 columns</p>\n",
       "</div>"
      ],
      "text/plain": [
       "                              time   mV    zscore\n",
       "0       2025 06 26 11:42:14.431748  339 -0.587656\n",
       "1                                0  611 -0.295092\n",
       "2                                0  919  0.036194\n",
       "3                                0  575 -0.333814\n",
       "4                                0  563 -0.346721\n",
       "...                            ...  ...       ...\n",
       "150255                           0  623 -0.282185\n",
       "150256                           0  627 -0.277882\n",
       "150257                           0  629 -0.275731\n",
       "150258                           0  628 -0.276807\n",
       "150259                           0  629 -0.275731\n",
       "\n",
       "[150141 rows x 3 columns]"
      ]
     },
     "execution_count": 156,
     "metadata": {},
     "output_type": "execute_result"
    }
   ],
   "source": [
    "data_4['zscore']=(data_4.mV-Avg_mean)/Avg_STD\n",
    "data_no_outlier_4=data_4[(data_4.zscore>-3) & (data_4.zscore<3)]\n",
    "data_no_outlier_4\n"
   ]
  },
  {
   "cell_type": "markdown",
   "id": "f8f3d56e-8c7a-4bc8-8d16-ccc0a65a699c",
   "metadata": {},
   "source": [
    "## Removing Outliers From ECG Signal_5"
   ]
  },
  {
   "cell_type": "code",
   "execution_count": 158,
   "id": "3e6e2bf1-9bb3-4931-9ac8-545a4e412ccd",
   "metadata": {},
   "outputs": [
    {
     "data": {
      "text/html": [
       "<div>\n",
       "<style scoped>\n",
       "    .dataframe tbody tr th:only-of-type {\n",
       "        vertical-align: middle;\n",
       "    }\n",
       "\n",
       "    .dataframe tbody tr th {\n",
       "        vertical-align: top;\n",
       "    }\n",
       "\n",
       "    .dataframe thead th {\n",
       "        text-align: right;\n",
       "    }\n",
       "</style>\n",
       "<table border=\"1\" class=\"dataframe\">\n",
       "  <thead>\n",
       "    <tr style=\"text-align: right;\">\n",
       "      <th></th>\n",
       "      <th>time</th>\n",
       "      <th>mV</th>\n",
       "      <th>zscore</th>\n",
       "    </tr>\n",
       "  </thead>\n",
       "  <tbody>\n",
       "    <tr>\n",
       "      <th>0</th>\n",
       "      <td>2025 06 26 11:42:14.431748</td>\n",
       "      <td>339</td>\n",
       "      <td>-0.587656</td>\n",
       "    </tr>\n",
       "    <tr>\n",
       "      <th>1</th>\n",
       "      <td>0</td>\n",
       "      <td>611</td>\n",
       "      <td>-0.295092</td>\n",
       "    </tr>\n",
       "    <tr>\n",
       "      <th>2</th>\n",
       "      <td>0</td>\n",
       "      <td>919</td>\n",
       "      <td>0.036194</td>\n",
       "    </tr>\n",
       "    <tr>\n",
       "      <th>3</th>\n",
       "      <td>0</td>\n",
       "      <td>575</td>\n",
       "      <td>-0.333814</td>\n",
       "    </tr>\n",
       "    <tr>\n",
       "      <th>4</th>\n",
       "      <td>0</td>\n",
       "      <td>563</td>\n",
       "      <td>-0.346721</td>\n",
       "    </tr>\n",
       "    <tr>\n",
       "      <th>...</th>\n",
       "      <td>...</td>\n",
       "      <td>...</td>\n",
       "      <td>...</td>\n",
       "    </tr>\n",
       "    <tr>\n",
       "      <th>164081</th>\n",
       "      <td>0</td>\n",
       "      <td>1145</td>\n",
       "      <td>0.279280</td>\n",
       "    </tr>\n",
       "    <tr>\n",
       "      <th>164082</th>\n",
       "      <td>0</td>\n",
       "      <td>909</td>\n",
       "      <td>0.025438</td>\n",
       "    </tr>\n",
       "    <tr>\n",
       "      <th>164083</th>\n",
       "      <td>0</td>\n",
       "      <td>556</td>\n",
       "      <td>-0.354250</td>\n",
       "    </tr>\n",
       "    <tr>\n",
       "      <th>164084</th>\n",
       "      <td>0</td>\n",
       "      <td>1061</td>\n",
       "      <td>0.188930</td>\n",
       "    </tr>\n",
       "    <tr>\n",
       "      <th>164085</th>\n",
       "      <td>0</td>\n",
       "      <td>891</td>\n",
       "      <td>0.006077</td>\n",
       "    </tr>\n",
       "  </tbody>\n",
       "</table>\n",
       "<p>163966 rows × 3 columns</p>\n",
       "</div>"
      ],
      "text/plain": [
       "                              time    mV    zscore\n",
       "0       2025 06 26 11:42:14.431748   339 -0.587656\n",
       "1                                0   611 -0.295092\n",
       "2                                0   919  0.036194\n",
       "3                                0   575 -0.333814\n",
       "4                                0   563 -0.346721\n",
       "...                            ...   ...       ...\n",
       "164081                           0  1145  0.279280\n",
       "164082                           0   909  0.025438\n",
       "164083                           0   556 -0.354250\n",
       "164084                           0  1061  0.188930\n",
       "164085                           0   891  0.006077\n",
       "\n",
       "[163966 rows x 3 columns]"
      ]
     },
     "execution_count": 158,
     "metadata": {},
     "output_type": "execute_result"
    }
   ],
   "source": [
    "data_5['zscore']=(data_5.mV-Avg_mean)/Avg_STD\n",
    "data_no_outlier_5=data_5[(data_5.zscore>-3) & (data_5.zscore<3)]\n",
    "data_no_outlier_5"
   ]
  },
  {
   "cell_type": "markdown",
   "id": "121abdbc-74a1-4985-af27-cd77a5654085",
   "metadata": {},
   "source": [
    "## Removing Outliers From ECG Signal_6"
   ]
  },
  {
   "cell_type": "code",
   "execution_count": 160,
   "id": "17b894f1-dc06-48c7-aa01-0016b450122b",
   "metadata": {},
   "outputs": [
    {
     "data": {
      "text/html": [
       "<div>\n",
       "<style scoped>\n",
       "    .dataframe tbody tr th:only-of-type {\n",
       "        vertical-align: middle;\n",
       "    }\n",
       "\n",
       "    .dataframe tbody tr th {\n",
       "        vertical-align: top;\n",
       "    }\n",
       "\n",
       "    .dataframe thead th {\n",
       "        text-align: right;\n",
       "    }\n",
       "</style>\n",
       "<table border=\"1\" class=\"dataframe\">\n",
       "  <thead>\n",
       "    <tr style=\"text-align: right;\">\n",
       "      <th></th>\n",
       "      <th>time</th>\n",
       "      <th>mV</th>\n",
       "      <th>zscore</th>\n",
       "    </tr>\n",
       "  </thead>\n",
       "  <tbody>\n",
       "    <tr>\n",
       "      <th>0</th>\n",
       "      <td>2025 06 26 11:42:14.431748</td>\n",
       "      <td>339</td>\n",
       "      <td>-0.587656</td>\n",
       "    </tr>\n",
       "    <tr>\n",
       "      <th>1</th>\n",
       "      <td>0</td>\n",
       "      <td>611</td>\n",
       "      <td>-0.295092</td>\n",
       "    </tr>\n",
       "    <tr>\n",
       "      <th>2</th>\n",
       "      <td>0</td>\n",
       "      <td>919</td>\n",
       "      <td>0.036194</td>\n",
       "    </tr>\n",
       "    <tr>\n",
       "      <th>3</th>\n",
       "      <td>0</td>\n",
       "      <td>575</td>\n",
       "      <td>-0.333814</td>\n",
       "    </tr>\n",
       "    <tr>\n",
       "      <th>4</th>\n",
       "      <td>0</td>\n",
       "      <td>563</td>\n",
       "      <td>-0.346721</td>\n",
       "    </tr>\n",
       "    <tr>\n",
       "      <th>...</th>\n",
       "      <td>...</td>\n",
       "      <td>...</td>\n",
       "      <td>...</td>\n",
       "    </tr>\n",
       "    <tr>\n",
       "      <th>178627</th>\n",
       "      <td>0</td>\n",
       "      <td>989</td>\n",
       "      <td>0.111486</td>\n",
       "    </tr>\n",
       "    <tr>\n",
       "      <th>178628</th>\n",
       "      <td>0</td>\n",
       "      <td>1009</td>\n",
       "      <td>0.132998</td>\n",
       "    </tr>\n",
       "    <tr>\n",
       "      <th>178629</th>\n",
       "      <td>0</td>\n",
       "      <td>1021</td>\n",
       "      <td>0.145906</td>\n",
       "    </tr>\n",
       "    <tr>\n",
       "      <th>178630</th>\n",
       "      <td>0</td>\n",
       "      <td>1025</td>\n",
       "      <td>0.150208</td>\n",
       "    </tr>\n",
       "    <tr>\n",
       "      <th>178631</th>\n",
       "      <td>0</td>\n",
       "      <td>1026</td>\n",
       "      <td>0.151284</td>\n",
       "    </tr>\n",
       "  </tbody>\n",
       "</table>\n",
       "<p>178512 rows × 3 columns</p>\n",
       "</div>"
      ],
      "text/plain": [
       "                              time    mV    zscore\n",
       "0       2025 06 26 11:42:14.431748   339 -0.587656\n",
       "1                                0   611 -0.295092\n",
       "2                                0   919  0.036194\n",
       "3                                0   575 -0.333814\n",
       "4                                0   563 -0.346721\n",
       "...                            ...   ...       ...\n",
       "178627                           0   989  0.111486\n",
       "178628                           0  1009  0.132998\n",
       "178629                           0  1021  0.145906\n",
       "178630                           0  1025  0.150208\n",
       "178631                           0  1026  0.151284\n",
       "\n",
       "[178512 rows x 3 columns]"
      ]
     },
     "execution_count": 160,
     "metadata": {},
     "output_type": "execute_result"
    }
   ],
   "source": [
    "data_6['zscore']=(data_6.mV-Avg_mean)/Avg_STD\n",
    "data_no_outlier_6=data_6[(data_6.zscore>-3) & (data_6.zscore<3)]\n",
    "data_no_outlier_6"
   ]
  },
  {
   "cell_type": "markdown",
   "id": "7af4c219-330e-4f5b-b7ef-de8245f60437",
   "metadata": {},
   "source": [
    "## Removing Outliers From ECG Signal_7"
   ]
  },
  {
   "cell_type": "code",
   "execution_count": 162,
   "id": "73334a5d-0c93-4ab5-a20b-9b656bf4dc97",
   "metadata": {},
   "outputs": [
    {
     "data": {
      "text/html": [
       "<div>\n",
       "<style scoped>\n",
       "    .dataframe tbody tr th:only-of-type {\n",
       "        vertical-align: middle;\n",
       "    }\n",
       "\n",
       "    .dataframe tbody tr th {\n",
       "        vertical-align: top;\n",
       "    }\n",
       "\n",
       "    .dataframe thead th {\n",
       "        text-align: right;\n",
       "    }\n",
       "</style>\n",
       "<table border=\"1\" class=\"dataframe\">\n",
       "  <thead>\n",
       "    <tr style=\"text-align: right;\">\n",
       "      <th></th>\n",
       "      <th>time</th>\n",
       "      <th>mV</th>\n",
       "      <th>zscore</th>\n",
       "    </tr>\n",
       "  </thead>\n",
       "  <tbody>\n",
       "    <tr>\n",
       "      <th>0</th>\n",
       "      <td>2025 06 26 11:42:14.431748</td>\n",
       "      <td>339</td>\n",
       "      <td>-0.587656</td>\n",
       "    </tr>\n",
       "    <tr>\n",
       "      <th>1</th>\n",
       "      <td>0</td>\n",
       "      <td>611</td>\n",
       "      <td>-0.295092</td>\n",
       "    </tr>\n",
       "    <tr>\n",
       "      <th>2</th>\n",
       "      <td>0</td>\n",
       "      <td>919</td>\n",
       "      <td>0.036194</td>\n",
       "    </tr>\n",
       "    <tr>\n",
       "      <th>3</th>\n",
       "      <td>0</td>\n",
       "      <td>575</td>\n",
       "      <td>-0.333814</td>\n",
       "    </tr>\n",
       "    <tr>\n",
       "      <th>4</th>\n",
       "      <td>0</td>\n",
       "      <td>563</td>\n",
       "      <td>-0.346721</td>\n",
       "    </tr>\n",
       "    <tr>\n",
       "      <th>...</th>\n",
       "      <td>...</td>\n",
       "      <td>...</td>\n",
       "      <td>...</td>\n",
       "    </tr>\n",
       "    <tr>\n",
       "      <th>193085</th>\n",
       "      <td>0</td>\n",
       "      <td>1237</td>\n",
       "      <td>0.378236</td>\n",
       "    </tr>\n",
       "    <tr>\n",
       "      <th>193086</th>\n",
       "      <td>0</td>\n",
       "      <td>1384</td>\n",
       "      <td>0.536350</td>\n",
       "    </tr>\n",
       "    <tr>\n",
       "      <th>193087</th>\n",
       "      <td>0</td>\n",
       "      <td>1118</td>\n",
       "      <td>0.250239</td>\n",
       "    </tr>\n",
       "    <tr>\n",
       "      <th>193088</th>\n",
       "      <td>0</td>\n",
       "      <td>1153</td>\n",
       "      <td>0.287885</td>\n",
       "    </tr>\n",
       "    <tr>\n",
       "      <th>193089</th>\n",
       "      <td>0</td>\n",
       "      <td>1247</td>\n",
       "      <td>0.388992</td>\n",
       "    </tr>\n",
       "  </tbody>\n",
       "</table>\n",
       "<p>192922 rows × 3 columns</p>\n",
       "</div>"
      ],
      "text/plain": [
       "                              time    mV    zscore\n",
       "0       2025 06 26 11:42:14.431748   339 -0.587656\n",
       "1                                0   611 -0.295092\n",
       "2                                0   919  0.036194\n",
       "3                                0   575 -0.333814\n",
       "4                                0   563 -0.346721\n",
       "...                            ...   ...       ...\n",
       "193085                           0  1237  0.378236\n",
       "193086                           0  1384  0.536350\n",
       "193087                           0  1118  0.250239\n",
       "193088                           0  1153  0.287885\n",
       "193089                           0  1247  0.388992\n",
       "\n",
       "[192922 rows x 3 columns]"
      ]
     },
     "execution_count": 162,
     "metadata": {},
     "output_type": "execute_result"
    }
   ],
   "source": [
    "data_7['zscore']=(data_7.mV-Avg_mean)/Avg_STD\n",
    "data_no_outlier_7=data_7[(data_7.zscore>-3) & (data_7.zscore<3)]\n",
    "data_no_outlier_7"
   ]
  },
  {
   "cell_type": "markdown",
   "id": "862ab956-f973-489a-864b-78b55d4e0466",
   "metadata": {},
   "source": [
    "## Removing Outliers From ECG Signal_8"
   ]
  },
  {
   "cell_type": "code",
   "execution_count": 164,
   "id": "36a017eb-9d62-4912-85b1-c90ba7795be0",
   "metadata": {},
   "outputs": [
    {
     "data": {
      "text/html": [
       "<div>\n",
       "<style scoped>\n",
       "    .dataframe tbody tr th:only-of-type {\n",
       "        vertical-align: middle;\n",
       "    }\n",
       "\n",
       "    .dataframe tbody tr th {\n",
       "        vertical-align: top;\n",
       "    }\n",
       "\n",
       "    .dataframe thead th {\n",
       "        text-align: right;\n",
       "    }\n",
       "</style>\n",
       "<table border=\"1\" class=\"dataframe\">\n",
       "  <thead>\n",
       "    <tr style=\"text-align: right;\">\n",
       "      <th></th>\n",
       "      <th>time</th>\n",
       "      <th>mV</th>\n",
       "      <th>zscore</th>\n",
       "    </tr>\n",
       "  </thead>\n",
       "  <tbody>\n",
       "    <tr>\n",
       "      <th>0</th>\n",
       "      <td>2025 06 26 11:42:14.431748</td>\n",
       "      <td>339</td>\n",
       "      <td>-0.587656</td>\n",
       "    </tr>\n",
       "    <tr>\n",
       "      <th>1</th>\n",
       "      <td>0</td>\n",
       "      <td>611</td>\n",
       "      <td>-0.295092</td>\n",
       "    </tr>\n",
       "    <tr>\n",
       "      <th>2</th>\n",
       "      <td>0</td>\n",
       "      <td>919</td>\n",
       "      <td>0.036194</td>\n",
       "    </tr>\n",
       "    <tr>\n",
       "      <th>3</th>\n",
       "      <td>0</td>\n",
       "      <td>575</td>\n",
       "      <td>-0.333814</td>\n",
       "    </tr>\n",
       "    <tr>\n",
       "      <th>4</th>\n",
       "      <td>0</td>\n",
       "      <td>563</td>\n",
       "      <td>-0.346721</td>\n",
       "    </tr>\n",
       "    <tr>\n",
       "      <th>...</th>\n",
       "      <td>...</td>\n",
       "      <td>...</td>\n",
       "      <td>...</td>\n",
       "    </tr>\n",
       "    <tr>\n",
       "      <th>206413</th>\n",
       "      <td>0</td>\n",
       "      <td>1009</td>\n",
       "      <td>0.132998</td>\n",
       "    </tr>\n",
       "    <tr>\n",
       "      <th>206414</th>\n",
       "      <td>0</td>\n",
       "      <td>892</td>\n",
       "      <td>0.007153</td>\n",
       "    </tr>\n",
       "    <tr>\n",
       "      <th>206415</th>\n",
       "      <td>0</td>\n",
       "      <td>1048</td>\n",
       "      <td>0.174947</td>\n",
       "    </tr>\n",
       "    <tr>\n",
       "      <th>206416</th>\n",
       "      <td>0</td>\n",
       "      <td>1123</td>\n",
       "      <td>0.255617</td>\n",
       "    </tr>\n",
       "    <tr>\n",
       "      <th>206417</th>\n",
       "      <td>0</td>\n",
       "      <td>993</td>\n",
       "      <td>0.115789</td>\n",
       "    </tr>\n",
       "  </tbody>\n",
       "</table>\n",
       "<p>206250 rows × 3 columns</p>\n",
       "</div>"
      ],
      "text/plain": [
       "                              time    mV    zscore\n",
       "0       2025 06 26 11:42:14.431748   339 -0.587656\n",
       "1                                0   611 -0.295092\n",
       "2                                0   919  0.036194\n",
       "3                                0   575 -0.333814\n",
       "4                                0   563 -0.346721\n",
       "...                            ...   ...       ...\n",
       "206413                           0  1009  0.132998\n",
       "206414                           0   892  0.007153\n",
       "206415                           0  1048  0.174947\n",
       "206416                           0  1123  0.255617\n",
       "206417                           0   993  0.115789\n",
       "\n",
       "[206250 rows x 3 columns]"
      ]
     },
     "execution_count": 164,
     "metadata": {},
     "output_type": "execute_result"
    }
   ],
   "source": [
    "data_8['zscore']=(data_8.mV-Avg_mean)/Avg_STD\n",
    "data_no_outlier_8=data_8[(data_8.zscore>-3) & (data_8.zscore<3)]\n",
    "data_no_outlier_8"
   ]
  },
  {
   "cell_type": "markdown",
   "id": "7152b95c-65e8-49ce-a665-93603f17c1a7",
   "metadata": {},
   "source": [
    "## Removing Outliers From ECG Signal_9"
   ]
  },
  {
   "cell_type": "code",
   "execution_count": 166,
   "id": "2aa8c663-e8d1-453f-83f7-f762110a4d7a",
   "metadata": {
    "scrolled": true
   },
   "outputs": [
    {
     "data": {
      "text/html": [
       "<div>\n",
       "<style scoped>\n",
       "    .dataframe tbody tr th:only-of-type {\n",
       "        vertical-align: middle;\n",
       "    }\n",
       "\n",
       "    .dataframe tbody tr th {\n",
       "        vertical-align: top;\n",
       "    }\n",
       "\n",
       "    .dataframe thead th {\n",
       "        text-align: right;\n",
       "    }\n",
       "</style>\n",
       "<table border=\"1\" class=\"dataframe\">\n",
       "  <thead>\n",
       "    <tr style=\"text-align: right;\">\n",
       "      <th></th>\n",
       "      <th>time</th>\n",
       "      <th>mV</th>\n",
       "      <th>zscore</th>\n",
       "    </tr>\n",
       "  </thead>\n",
       "  <tbody>\n",
       "    <tr>\n",
       "      <th>0</th>\n",
       "      <td>2025 06 26 11:42:14.431748</td>\n",
       "      <td>339</td>\n",
       "      <td>-0.587656</td>\n",
       "    </tr>\n",
       "    <tr>\n",
       "      <th>1</th>\n",
       "      <td>0</td>\n",
       "      <td>611</td>\n",
       "      <td>-0.295092</td>\n",
       "    </tr>\n",
       "    <tr>\n",
       "      <th>2</th>\n",
       "      <td>0</td>\n",
       "      <td>919</td>\n",
       "      <td>0.036194</td>\n",
       "    </tr>\n",
       "    <tr>\n",
       "      <th>3</th>\n",
       "      <td>0</td>\n",
       "      <td>575</td>\n",
       "      <td>-0.333814</td>\n",
       "    </tr>\n",
       "    <tr>\n",
       "      <th>4</th>\n",
       "      <td>0</td>\n",
       "      <td>563</td>\n",
       "      <td>-0.346721</td>\n",
       "    </tr>\n",
       "    <tr>\n",
       "      <th>...</th>\n",
       "      <td>...</td>\n",
       "      <td>...</td>\n",
       "      <td>...</td>\n",
       "    </tr>\n",
       "    <tr>\n",
       "      <th>223171</th>\n",
       "      <td>0</td>\n",
       "      <td>962</td>\n",
       "      <td>0.082445</td>\n",
       "    </tr>\n",
       "    <tr>\n",
       "      <th>223172</th>\n",
       "      <td>0</td>\n",
       "      <td>948</td>\n",
       "      <td>0.067387</td>\n",
       "    </tr>\n",
       "    <tr>\n",
       "      <th>223173</th>\n",
       "      <td>0</td>\n",
       "      <td>944</td>\n",
       "      <td>0.063084</td>\n",
       "    </tr>\n",
       "    <tr>\n",
       "      <th>223174</th>\n",
       "      <td>0</td>\n",
       "      <td>946</td>\n",
       "      <td>0.065235</td>\n",
       "    </tr>\n",
       "    <tr>\n",
       "      <th>223175</th>\n",
       "      <td>0</td>\n",
       "      <td>947</td>\n",
       "      <td>0.066311</td>\n",
       "    </tr>\n",
       "  </tbody>\n",
       "</table>\n",
       "<p>223008 rows × 3 columns</p>\n",
       "</div>"
      ],
      "text/plain": [
       "                              time   mV    zscore\n",
       "0       2025 06 26 11:42:14.431748  339 -0.587656\n",
       "1                                0  611 -0.295092\n",
       "2                                0  919  0.036194\n",
       "3                                0  575 -0.333814\n",
       "4                                0  563 -0.346721\n",
       "...                            ...  ...       ...\n",
       "223171                           0  962  0.082445\n",
       "223172                           0  948  0.067387\n",
       "223173                           0  944  0.063084\n",
       "223174                           0  946  0.065235\n",
       "223175                           0  947  0.066311\n",
       "\n",
       "[223008 rows x 3 columns]"
      ]
     },
     "execution_count": 166,
     "metadata": {},
     "output_type": "execute_result"
    }
   ],
   "source": [
    "data_9['zscore']=(data_9.mV-Avg_mean)/Avg_STD\n",
    "data_no_outlier_9=data_9[(data_9.zscore>-3) & (data_9.zscore<3)]\n",
    "data_no_outlier_9"
   ]
  },
  {
   "cell_type": "markdown",
   "id": "e69ef06a-2f44-4122-8ae1-886792fa8b82",
   "metadata": {},
   "source": [
    "## Autocorrelation Plots"
   ]
  },
  {
   "cell_type": "markdown",
   "id": "cbd98c92-88cc-422a-beef-aad2ce964f49",
   "metadata": {},
   "source": [
    "## For ECG Signal_3"
   ]
  },
  {
   "cell_type": "code",
   "execution_count": 170,
   "id": "f49ed2a4-52b6-4f9d-87af-087c056e6c61",
   "metadata": {},
   "outputs": [
    {
     "data": {
      "image/png": "[encoded data removed]",
      "text/plain": [
       "<Figure size 640x480 with 1 Axes>"
      ]
     },
     "metadata": {},
     "output_type": "display_data"
    },
    {
     "data": {
      "image/png": "[encoded data removed]",
      "text/plain": [
       "<Figure size 640x480 with 1 Axes>"
      ]
     },
     "metadata": {},
     "output_type": "display_data"
    }
   ],
   "source": [
    "from pandas.plotting import lag_plot\n",
    "series =data_3.mV\n",
    "lag_plot(series)\n",
    "#plt.xlim([-10000,60000])\n",
    "#plt.ylim([-10000,60000])\n",
    "plt.title('ECG_3')\n",
    "plt.show()\n",
    "\n",
    "series =data_no_outlier_3.mV\n",
    "lag_plot(series)\n",
    "#plt.xlim([-100,4000])\n",
    "#plt.ylim([-100,4000])\n",
    "plt.title('ECG_no_outliar_3')\n",
    "plt.show()"
   ]
  },
  {
   "cell_type": "code",
   "execution_count": 171,
   "id": "ee1339c0-d491-4467-93ce-1fb8322f70ac",
   "metadata": {},
   "outputs": [
    {
     "data": {
      "image/png": "[encoded data removed]",
      "text/plain": [
       "<Figure size 640x480 with 1 Axes>"
      ]
     },
     "metadata": {},
     "output_type": "display_data"
    }
   ],
   "source": [
    "from pandas.plotting import autocorrelation_plot\n",
    "series=data_no_outlier_3.mV\n",
    "autocorrelation_plot(series)\n",
    "plt.title('ECG_no_outliar_3')\n",
    "#plt.xlim([0,2000])\n",
    "#plt.ylim([-0.05,0.15])\n",
    "plt.show()"
   ]
  },
  {
   "cell_type": "markdown",
   "id": "ac779b2a-3896-47c4-8825-9da5994f1e19",
   "metadata": {},
   "source": [
    "## Persistence Model Of Autoregression To Identify Mean Square Error(MSE)"
   ]
  },
  {
   "cell_type": "markdown",
   "id": "ae4d62dd-04c9-4e67-b1ae-63110083e3fb",
   "metadata": {},
   "source": [
    "## For ECG Signal_3: Expected is Blue & Predicted is Red"
   ]
  },
  {
   "cell_type": "code",
   "execution_count": 175,
   "id": "7e719442-db38-49c3-bb91-6e256ffceea7",
   "metadata": {},
   "outputs": [
    {
     "name": "stdout",
     "output_type": "stream",
     "text": [
      "Test MSE: 20.714\n"
     ]
    },
    {
     "data": {
      "image/png": "[encoded data removed]",
      "text/plain": [
       "<Figure size 640x480 with 1 Axes>"
      ]
     },
     "metadata": {},
     "output_type": "display_data"
    }
   ],
   "source": [
    "from pandas import DataFrame\n",
    "from pandas import concat\n",
    "from sklearn.metrics import mean_squared_error\n",
    "series=data_no_outlier_3.mV\n",
    "# create lagged dataset\n",
    "values = DataFrame(series.values)\n",
    "dataframe = concat([values.shift(1), values], axis=1)\n",
    "dataframe.columns = ['t-1', 't+1']\n",
    "# split into train and test sets\n",
    "X = dataframe.values\n",
    "train, test = X[1:len(X)-7], X[len(X)-7:]\n",
    "train_X, train_y = train[:,0], train[:,1]\n",
    "test_X, test_y = test[:,0], test[:,1]\n",
    "\n",
    "# persistence model\n",
    "def model_persistence(x):\n",
    "\treturn x\n",
    "\n",
    "# walk-forward validation\n",
    "predictions = list()\n",
    "for x in test_X:\n",
    "\tyhat = model_persistence(x)\n",
    "\tpredictions.append(yhat)\n",
    "test_score = mean_squared_error(test_y, predictions)\n",
    "print('Test MSE: %.3f' % test_score)\n",
    "# plot predictions vs expected\n",
    "plt.plot(test_y)\n",
    "plt.plot(predictions, color='red')\n",
    "plt.show()"
   ]
  },
  {
   "cell_type": "markdown",
   "id": "8fce4064-f532-47cb-bea0-418d1e5cdf71",
   "metadata": {},
   "source": [
    "## After Summarized The MSE"
   ]
  },
  {
   "cell_type": "code",
   "execution_count": 177,
   "id": "f11563dd-d507-435c-87ef-a5d69bf35d88",
   "metadata": {},
   "outputs": [
    {
     "name": "stdout",
     "output_type": "stream",
     "text": [
      "Coefficients: [8.72971520e+00 1.25546347e-01 1.34112424e-01 1.00978841e-01\n",
      " 6.72435559e-02 6.09844689e-02 5.79137055e-02 3.70499236e-02\n",
      " 2.91331679e-02 3.08223882e-02 2.65112485e-02 3.59421120e-02\n",
      " 3.09719340e-02 3.18041625e-02 2.04632888e-02 1.62910499e-02\n",
      " 1.39342706e-02 1.29197307e-02 1.32518700e-02 1.48419263e-02\n",
      " 9.31030239e-03 1.75106246e-02 1.63232765e-02 1.38508059e-02\n",
      " 9.89408988e-03 3.47377561e-03 1.38997429e-02 1.32729505e-02\n",
      " 1.92753468e-02 1.25789269e-02]\n",
      "predicted=927.585392, expected=892.000000\n",
      "predicted=928.558242, expected=893.000000\n",
      "predicted=930.585561, expected=901.000000\n",
      "predicted=933.680704, expected=896.000000\n",
      "predicted=933.800442, expected=897.000000\n",
      "predicted=934.569891, expected=891.000000\n",
      "predicted=933.651374, expected=894.000000\n",
      "Test RMSE: 37.130\n"
     ]
    },
    {
     "data": {
      "image/png": "[encoded data removed]",
      "text/plain": [
       "<Figure size 640x480 with 1 Axes>"
      ]
     },
     "metadata": {},
     "output_type": "display_data"
    }
   ],
   "source": [
    "# create and evaluate a static autoregressive model\n",
    "from statsmodels.tsa.ar_model import AutoReg\n",
    "from sklearn.metrics import mean_squared_error\n",
    "from math import sqrt\n",
    "# load dataset\n",
    "series=data_no_outlier_3.mV\n",
    "# split dataset\n",
    "X = series.values\n",
    "train, test = X[1:len(X)-7], X[len(X)-7:]\n",
    "# train autoregression\n",
    "model = AutoReg(train, lags=29)\n",
    "model_fit = model.fit()\n",
    "print('Coefficients: %s' % model_fit.params)\n",
    "# make predictions\n",
    "predictions = model_fit.predict(start=len(train), end=len(train)+len(test)-1, dynamic=False)\n",
    "for i in range(len(predictions)):\n",
    "\tprint('predicted=%f, expected=%f' % (predictions[i], test[i]))\n",
    "rmse = sqrt(mean_squared_error(test, predictions))\n",
    "print('Test RMSE: %.3f' % rmse)\n",
    "# plot results\n",
    "plt.plot(test)\n",
    "plt.plot(predictions, color='red')\n",
    "#plt.xlim([100,20000])\n",
    "plt.ylim([500,1500])\n",
    "plt.show()"
   ]
  },
  {
   "cell_type": "markdown",
   "id": "2db82e2f-ac9a-4b93-8d88-1c202bab97df",
   "metadata": {},
   "source": [
    "## FFT After Removing DC Offset"
   ]
  },
  {
   "cell_type": "code",
   "execution_count": 194,
   "id": "ff32248d-c6c8-49b5-a4d4-72f7f94d51b6",
   "metadata": {},
   "outputs": [],
   "source": [
    "#Removing DC Offset From Signal data_no_outlier_3 \n",
    "data_no_outlier_3=data_no_outlier_3-np.mean(data_no_outlier_3)\n"
   ]
  },
  {
   "cell_type": "code",
   "execution_count": 215,
   "id": "4e13d534-9c19-4469-ad21-7854ff4f4d93",
   "metadata": {},
   "outputs": [
    {
     "data": {
      "image/png": "[encoded data removed]",
      "text/plain": [
       "<Figure size 640x480 with 1 Axes>"
      ]
     },
     "metadata": {},
     "output_type": "display_data"
    }
   ],
   "source": [
    "#FFT\n",
    "from scipy.fftpack import fft,fftfreq\n",
    "#data_no_outlier_3=data.iloc[5:6,1:2501].values.ravel()\n",
    "fs=1000 #sampling frequency\n",
    "t=np.arange(len(data_no_outlier_3.values))/fs\n",
    "N=len(data_no_outlier_3.values)\n",
    "fft_clean=fft(data_no_outlier_3.values)\n",
    "freqs=fftfreq(N,1/fs)\n",
    "\n",
    "#focus on positive frequencies\n",
    "pos_freqs_clean=freqs[:N//2]\n",
    "magnitude_clean=np.abs(fft_clean[:N//2])\n",
    "magnitude_clean_norm=(magnitude_clean-np.min(magnitude_clean))/(np.max(magnitude_clean)-np.min(magnitude_clean))\n",
    "plt.plot(pos_freqs_clean,magnitude_clean_norm)\n",
    "plt.xlim([0,100])\n",
    "plt.ylim([0,.5])         \n",
    "plt.show()"
   ]
  },
  {
   "cell_type": "code",
   "execution_count": null,
   "id": "c7e875b9-eb7a-44ab-97db-c7737a424f29",
   "metadata": {},
   "outputs": [],
   "source": []
  }
 ],
 "metadata": {
  "kernelspec": {
   "display_name": "Python [conda env:base] *",
   "language": "python",
   "name": "conda-base-py"
  },
  "language_info": {
   "codemirror_mode": {
    "name": "ipython",
    "version": 3
   },
   "file_extension": ".py",
   "mimetype": "text/x-python",
   "name": "python",
   "nbconvert_exporter": "python",
   "pygments_lexer": "ipython3",
   "version": "3.12.7"
  }
 },
 "nbformat": 4,
 "nbformat_minor": 5
}
